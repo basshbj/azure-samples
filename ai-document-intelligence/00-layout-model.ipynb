{
 "cells": [
  {
   "cell_type": "code",
   "execution_count": 1,
   "metadata": {},
   "outputs": [],
   "source": [
    "# %pip install azure-ai-documentintelligence"
   ]
  },
  {
   "cell_type": "markdown",
   "metadata": {},
   "source": [
    "# Azure AI Document Intelligence - Layout Model\n",
    "Sample code using the `2024-11-30` API"
   ]
  },
  {
   "cell_type": "markdown",
   "metadata": {},
   "source": [
    "## Environment Set up"
   ]
  },
  {
   "cell_type": "code",
   "execution_count": 38,
   "metadata": {},
   "outputs": [],
   "source": [
    "import os\n",
    "import json\n",
    "\n",
    "from dotenv import load_dotenv\n",
    "from azure.core.credentials import AzureKeyCredential\n",
    "from azure.ai.documentintelligence import DocumentIntelligenceClient\n",
    "from azure.ai.documentintelligence.models import AnalyzeDocumentRequest, AnalyzeResult, AnalyzeOutputOption, DocumentAnalysisFeature, DocumentContentFormat"
   ]
  },
  {
   "cell_type": "code",
   "execution_count": 39,
   "metadata": {},
   "outputs": [],
   "source": [
    "load_dotenv(override=True)\n",
    "\n",
    "DOC_AI_ENDPOINT   = os.getenv(\"DOC_AI_ENDPOINT\")\n",
    "DOC_AI_API_KEY    = os.getenv(\"DOC_AI_API_KEY\")\n",
    "\n",
    "doc_client: DocumentIntelligenceClient = DocumentIntelligenceClient(\n",
    "  DOC_AI_ENDPOINT, \n",
    "  AzureKeyCredential(DOC_AI_API_KEY),\n",
    ")"
   ]
  },
  {
   "cell_type": "markdown",
   "metadata": {},
   "source": [
    "## Extract Content"
   ]
  },
  {
   "cell_type": "code",
   "execution_count": 40,
   "metadata": {},
   "outputs": [],
   "source": [
    "# Load file from local path\n",
    "\n",
    "file_path = \"./data/sample-text-lorem-ipsum.pdf\"\n",
    "\n",
    "with open(file_path, \"rb\") as f:\n",
    "  poller = doc_client.begin_analyze_document(\n",
    "    \"prebuilt-layout\", \n",
    "    AnalyzeDocumentRequest(bytes_source=f.read()), \n",
    "    output_content_format=DocumentContentFormat.MARKDOWN,\n",
    "    output=[AnalyzeOutputOption.FIGURES],\n",
    "  )\n",
    "  \n",
    "  result:AnalyzeResult = poller.result()"
   ]
  },
  {
   "cell_type": "code",
   "execution_count": 41,
   "metadata": {},
   "outputs": [],
   "source": [
    "# Save extracted content as Makdown file\n",
    "with open(\"./output/result.md\", \"w\", encoding=\"utf-8\") as f:\n",
    "  f.write(result.content)"
   ]
  },
  {
   "cell_type": "code",
   "execution_count": 43,
   "metadata": {},
   "outputs": [
    {
     "data": {
      "text/markdown": [
       "# Lorem Ipsum Dolor Sit Amet\n",
       "\n",
       "\n",
       "## 1. Introduction\n",
       "\n",
       "Lorem ipsum dolor sit amet, consectetur adipiscing elit. Nulla facilisi. Donec consectetur,\n",
       "metus a feugiat aliquam, quam justo tincidunt est, vel molestie risus lacus in orci.\n",
       "\n",
       "\n",
       "### Key Points\n",
       "\n",
       "☒\n",
       "Nulla facilisi et malesuada fames ac ante ipsum primis in faucibus.\n",
       "\n",
       "☐\n",
       "Donec elementum massa sit amet augue suscipit, et molestie leo tristique.\n",
       "\n",
       "☐\n",
       "Fusce id justo vel lorem pharetra accumsan non et nisi.\n",
       "\n",
       "\n",
       "## 2. Data Table\n",
       "\n",
       "Below is a sample table with Lorem Ipsum data:\n",
       "\n",
       "\n",
       "<table>\n",
       "<tr>\n",
       "<th>Category</th>\n",
       "<th>Description</th>\n",
       "<th>Status</th>\n",
       "</tr>\n",
       "<tr>\n",
       "<td>Alpha</td>\n",
       "<td>Lorem ipsum dolor sit amet</td>\n",
       "<td>☒ Completed</td>\n",
       "</tr>\n",
       "<tr>\n",
       "<td>Beta</td>\n",
       "<td>Consectetur adipiscing elit</td>\n",
       "<td>☒ In Progress</td>\n",
       "</tr>\n",
       "<tr>\n",
       "<td>Gamma</td>\n",
       "<td>Sed do eiusmod tempor incididunt</td>\n",
       "<td>☒ Not Started</td>\n",
       "</tr>\n",
       "<tr>\n",
       "<td>Delta</td>\n",
       "<td>Ut enim ad minim veniam</td>\n",
       "<td>☒ Completed</td>\n",
       "</tr>\n",
       "</table>\n",
       "\n",
       "\n",
       "<!-- PageBreak -->\n",
       "\n",
       "\n",
       "## 3. Checklist for Success\n",
       "\n",
       "Phase 1 - Planning\n",
       "\n",
       "1\\.\n",
       "Define project scope\n",
       "\n",
       "2\\.\n",
       "Identify stakeholders\n",
       "\n",
       "3\\.\n",
       "Set timelines\n",
       "\n",
       "Phase 2 - Development\n",
       "\n",
       "1\\.\n",
       "Write initial drafts\n",
       "\n",
       "2\\.\n",
       "Review and revise\n",
       "\n",
       "3\\.\n",
       "Validate requirements\n",
       "\n",
       "Phase 3 - Finalization\n",
       "\n",
       "1\\.\n",
       "Conduct final testing\n",
       "\n",
       "2\\.\n",
       "Deploy project\n",
       "\n",
       "3\\.\n",
       "Gather feedback\n",
       "\n",
       "\n",
       "## 4. Conclusion\n",
       "\n",
       "Praesent tristique fermentum massa vel congue. Suspendisse potenti. Integer eu mi nec nisl\n",
       "feugiat luctus at non mi. Quisque dapibus mi nec malesuada facilisis.\n",
       "\n",
       "<!-- PageBreak -->\n",
       "\n",
       "\n",
       "<figure>\n",
       "\n",
       "90\n",
       "\n",
       "20\n",
       "\n",
       "10\n",
       "\n",
       "0.4\n",
       "\n",
       "0.0\n",
       "\n",
       "30\n",
       "\n",
       "::\n",
       "\n",
       "00\n",
       "\n",
       "1\n",
       "\n",
       "J\n",
       "\n",
       "₡\n",
       "\n",
       ".\n",
       "\n",
       "A\n",
       "\n",
       "6\n",
       "\n",
       ".\n",
       "\n",
       "5\n",
       "\n",
       "0\n",
       "\n",
       "10\n",
       "\n",
       "1\n",
       "\n",
       "30\n",
       "\n",
       "</figure>"
      ],
      "text/plain": [
       "<IPython.core.display.Markdown object>"
      ]
     },
     "metadata": {},
     "output_type": "display_data"
    }
   ],
   "source": [
    "from IPython.display import Markdown, display\n",
    "\n",
    "display(Markdown(result.content))"
   ]
  },
  {
   "cell_type": "markdown",
   "metadata": {},
   "source": [
    "## Extract Images from file"
   ]
  },
  {
   "cell_type": "code",
   "execution_count": null,
   "metadata": {},
   "outputs": [],
   "source": [
    "figures_list = []\n",
    "\n",
    "if result.figures:\n",
    "  for figure in result.figures:\n",
    "    if figure.id:\n",
    "      figure_path = f\"./output/figures/{figure.id}.png\"\n",
    "\n",
    "      # Extract the image data from the file\n",
    "      image_data = doc_client.get_analyze_result_figure(\n",
    "        model_id=result.model_id,\n",
    "        result_id=poller.details[\"operation_id\"],\n",
    "        figure_id=figure.id,\n",
    "      )\n",
    "\n",
    "      # Save as PNG\n",
    "      with open(figure_path, \"wb\") as writer:\n",
    "        writer.writelines(image_data)\n",
    "\n",
    "      figures_list.append(\n",
    "        {\n",
    "          \"figure_id\": figure.id,\n",
    "          \"figure_path\": figure_path,\n",
    "          \"figure_caption\": figure.caption,\n",
    "          \"span\": figure.spans[0].as_dict(),\n",
    "        }\n",
    "      )"
   ]
  },
  {
   "cell_type": "code",
   "execution_count": 51,
   "metadata": {},
   "outputs": [],
   "source": [
    "figures_list_json = json.dumps(figures_list, indent=2)"
   ]
  },
  {
   "cell_type": "code",
   "execution_count": 53,
   "metadata": {},
   "outputs": [
    {
     "name": "stdout",
     "output_type": "stream",
     "text": [
      "[\n",
      "  {\n",
      "    \"figure_id\": \"3.1\",\n",
      "    \"figure_path\": \"./output/figures/3.1.png\",\n",
      "    \"figure_caption\": null,\n",
      "    \"span\": {\n",
      "      \"offset\": 1480,\n",
      "      \"length\": 91\n",
      "    }\n",
      "  }\n",
      "]\n"
     ]
    }
   ],
   "source": [
    "print(figures_list_json)"
   ]
  },
  {
   "cell_type": "markdown",
   "metadata": {},
   "source": [
    "## Extract Checkboxes"
   ]
  },
  {
   "cell_type": "code",
   "execution_count": 56,
   "metadata": {},
   "outputs": [],
   "source": [
    "checkbox_list = []\n",
    "\n",
    "for page in result.pages:\n",
    "  if page.selection_marks:\n",
    "    for mark in page.selection_marks:\n",
    "      checkbox_list.append(\n",
    "        {\n",
    "          \"page_number\": page.page_number,\n",
    "          \"state\": mark.state.value,\n",
    "          \"span\": mark.span.as_dict(),\n",
    "        }\n",
    "      )"
   ]
  },
  {
   "cell_type": "code",
   "execution_count": 57,
   "metadata": {},
   "outputs": [],
   "source": [
    "checkbox_list_json = json.dumps(checkbox_list, indent=2)"
   ]
  },
  {
   "cell_type": "code",
   "execution_count": 58,
   "metadata": {},
   "outputs": [
    {
     "name": "stdout",
     "output_type": "stream",
     "text": [
      "[\n",
      "  {\n",
      "    \"page_number\": 1,\n",
      "    \"state\": \"selected\",\n",
      "    \"span\": {\n",
      "      \"offset\": 246,\n",
      "      \"length\": 1\n",
      "    }\n",
      "  },\n",
      "  {\n",
      "    \"page_number\": 1,\n",
      "    \"state\": \"unselected\",\n",
      "    \"span\": {\n",
      "      \"offset\": 317,\n",
      "      \"length\": 1\n",
      "    }\n",
      "  },\n",
      "  {\n",
      "    \"page_number\": 1,\n",
      "    \"state\": \"unselected\",\n",
      "    \"span\": {\n",
      "      \"offset\": 394,\n",
      "      \"length\": 1\n",
      "    }\n",
      "  },\n",
      "  {\n",
      "    \"page_number\": 1,\n",
      "    \"state\": \"selected\",\n",
      "    \"span\": {\n",
      "      \"offset\": 655,\n",
      "      \"length\": 1\n",
      "    }\n",
      "  },\n",
      "  {\n",
      "    \"page_number\": 1,\n",
      "    \"state\": \"selected\",\n",
      "    \"span\": {\n",
      "      \"offset\": 738,\n",
      "      \"length\": 1\n",
      "    }\n",
      "  },\n",
      "  {\n",
      "    \"page_number\": 1,\n",
      "    \"state\": \"selected\",\n",
      "    \"span\": {\n",
      "      \"offset\": 829,\n",
      "      \"length\": 1\n",
      "    }\n",
      "  },\n",
      "  {\n",
      "    \"page_number\": 1,\n",
      "    \"state\": \"selected\",\n",
      "    \"span\": {\n",
      "      \"offset\": 911,\n",
      "      \"length\": 1\n",
      "    }\n",
      "  }\n",
      "]\n"
     ]
    }
   ],
   "source": [
    "print(checkbox_list_json)"
   ]
  }
 ],
 "metadata": {
  "kernelspec": {
   "display_name": "venv",
   "language": "python",
   "name": "python3"
  },
  "language_info": {
   "codemirror_mode": {
    "name": "ipython",
    "version": 3
   },
   "file_extension": ".py",
   "mimetype": "text/x-python",
   "name": "python",
   "nbconvert_exporter": "python",
   "pygments_lexer": "ipython3",
   "version": "3.12.9"
  }
 },
 "nbformat": 4,
 "nbformat_minor": 2
}
